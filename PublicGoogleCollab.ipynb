{
  "cells": [
    {
      "cell_type": "markdown",
      "metadata": {
        "id": "view-in-github",
        "colab_type": "text"
      },
      "source": [
        "<a href=\"https://colab.research.google.com/github/VitaliiKras/GCollabPublic/blob/main/PublicGoogleCollab.ipynb\" target=\"_parent\"><img src=\"https://colab.research.google.com/assets/colab-badge.svg\" alt=\"Open In Colab\"/></a>"
      ]
    },
    {
      "cell_type": "markdown",
      "metadata": {
        "id": "-AG2PJ3JYzBo"
      },
      "source": [
        "# Перший розділ для запуску"
      ]
    },
    {
      "cell_type": "code",
      "execution_count": 1,
      "metadata": {
        "id": "IGMY7xqtuj8e"
      },
      "outputs": [],
      "source": [
        "#printfile"
      ]
    },
    {
      "cell_type": "markdown",
      "metadata": {
        "id": "MLZsKW3wPv4B"
      },
      "source": [
        "# Другий розділ для запуску"
      ]
    },
    {
      "cell_type": "code",
      "execution_count": 2,
      "metadata": {
        "id": "XYX76rtJYzBw"
      },
      "outputs": [],
      "source": [
        "#some changes for commit"
      ]
    },
    {
      "cell_type": "markdown",
      "source": [
        "# Третій розділ -- додано з GoogleCollab\n",
        "\n",
        "---\n",
        "\n"
      ],
      "metadata": {
        "id": "L6kX96iDY9ja"
      }
    },
    {
      "cell_type": "markdown",
      "metadata": {
        "id": "JYz46wbVP3V0"
      },
      "source": [
        "Створення нового проекту по гугл колаб."
      ]
    }
  ],
  "metadata": {
    "colab": {
      "provenance": [],
      "toc_visible": true,
      "include_colab_link": true
    },
    "kernelspec": {
      "display_name": "Python 3 (ipykernel)",
      "language": "python",
      "name": "python3"
    },
    "language_info": {
      "codemirror_mode": {
        "name": "ipython",
        "version": 3
      },
      "file_extension": ".py",
      "mimetype": "text/x-python",
      "name": "python",
      "nbconvert_exporter": "python",
      "pygments_lexer": "ipython3",
      "version": "3.12.1"
    }
  },
  "nbformat": 4,
  "nbformat_minor": 0
}