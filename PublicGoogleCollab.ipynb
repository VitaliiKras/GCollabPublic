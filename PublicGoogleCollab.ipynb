{
  "cells": [
    {
      "cell_type": "markdown",
      "metadata": {
        "colab_type": "text",
        "id": "view-in-github"
      },
      "source": [
        "<a href=\"https://colab.research.google.com/github/VitaliiKras/GCollabPublic/blob/main/PublicGoogleCollab.ipynb\" target=\"_parent\"><img src=\"https://colab.research.google.com/assets/colab-badge.svg\" alt=\"Open In Colab\"/></a>"
      ]
    },
    {
      "cell_type": "code",
      "execution_count": null,
      "metadata": {
        "id": "IGMY7xqtuj8e"
      },
      "outputs": [],
      "source": [
        "printfile"
      ]
    },
    {
      "cell_type": "markdown",
      "metadata": {
        "id": "MLZsKW3wPv4B"
      },
      "source": [
        "# Новий розділ"
      ]
    },
    {
      "cell_type": "code",
      "execution_count": null,
      "metadata": {
        "id": "X-2CzDhHP292"
      },
      "outputs": [],
      "source": [
        "#some changes for commit"
      ]
    },
    {
      "cell_type": "markdown",
      "metadata": {
        "id": "JYz46wbVP3V0"
      },
      "source": [
        "Створення нового проекту по гугл колаб."
      ]
    }
  ],
  "metadata": {
    "colab": {
      "authorship_tag": "ABX9TyNAAVTLAaLN6BZlEW3DXkzC",
      "include_colab_link": true,
      "provenance": [],
      "toc_visible": true
    },
    "kernelspec": {
      "display_name": "Python 3",
      "name": "python3"
    },
    "language_info": {
      "name": "python"
    }
  },
  "nbformat": 4,
  "nbformat_minor": 0
}
