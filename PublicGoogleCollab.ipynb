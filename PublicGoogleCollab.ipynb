{
  "cells": [
    {
      "cell_type": "markdown",
      "metadata": {
        "id": "view-in-github",
        "colab_type": "text"
      },
      "source": [
        "<a href=\"https://colab.research.google.com/github/VitaliiKras/GCollabPublic/blob/main/PublicGoogleCollab.ipynb\" target=\"_parent\"><img src=\"https://colab.research.google.com/assets/colab-badge.svg\" alt=\"Open In Colab\"/></a>"
      ]
    },
    {
      "cell_type": "markdown",
      "metadata": {
        "id": "-AG2PJ3JYzBo"
      },
      "source": [
        "# Опис блокноту (PET проект)\n",
        "\n",
        ">  PET проект - створений в Google Colab з метою продемонструвати можливості з EDA аналізу (Exploratory Data Analysis).\n",
        "Детальніше по EDA обзорі AI [тут](https://www.google.com/search?q=exploratory+data+analysis&oq=explanatory+data+&gs_lcrp=EgZjaHJvbWUqCQgBEAAYChiABDIGCAAQRRg5MgkIARAAGAoYgAQyCQgCEAAYChiABDIJCAMQABgKGIAEMgkIBBAAGAoYgAQyCQgFEAAYChiABDIJCAYQABgKGIAEMgkIBxAAGAoYgAQyCQgIEAAYChiABDIJCAkQABgKGIAE0gEJMTAyODNqMGo3qAIAsAIA&sourceid=chrome&ie=UTF-8)\n",
        "\n"
      ]
    },
    {
      "cell_type": "markdown",
      "metadata": {
        "id": "MLZsKW3wPv4B"
      },
      "source": [
        "# Опис кроків для EDA в цьому блокноті\n",
        "[джерело з детальним описом тут ](https://www.geeksforgeeks.org/data-analysis/what-is-exploratory-data-analysis/)\n",
        "\n",
        "№1:"
      ]
    },
    {
      "cell_type": "code",
      "execution_count": null,
      "metadata": {
        "id": "XYX76rtJYzBw"
      },
      "outputs": [],
      "source": [
        "#some changes for commit"
      ]
    },
    {
      "cell_type": "markdown",
      "metadata": {
        "id": "L6kX96iDY9ja"
      },
      "source": [
        "# Третій розділ -- додано з GoogleCollab\n",
        "\n",
        "---\n",
        "\n"
      ]
    },
    {
      "cell_type": "markdown",
      "metadata": {
        "id": "JYz46wbVP3V0"
      },
      "source": [
        "Створення нового проекту по гугл колаб."
      ]
    }
  ],
  "metadata": {
    "colab": {
      "provenance": [],
      "toc_visible": true,
      "include_colab_link": true
    },
    "kernelspec": {
      "display_name": "Python 3 (ipykernel)",
      "language": "python",
      "name": "python3"
    },
    "language_info": {
      "codemirror_mode": {
        "name": "ipython",
        "version": 3
      },
      "file_extension": ".py",
      "mimetype": "text/x-python",
      "name": "python",
      "nbconvert_exporter": "python",
      "pygments_lexer": "ipython3",
      "version": "3.12.1"
    }
  },
  "nbformat": 4,
  "nbformat_minor": 0
}